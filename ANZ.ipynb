{
 "cells": [
  {
   "cell_type": "code",
   "execution_count": 29,
   "metadata": {
    "id": "SBGg9Zg2SDyM"
   },
   "outputs": [],
   "source": [
    "import pandas as pd\n",
    "import numpy as np\n",
    "import matplotlib.pyplot as plt\n",
    "import seaborn as sns\n",
    "import matplotlib.pyplot as plt\n",
    "from sklearn.model_selection import train_test_split\n",
    "from sklearn.linear_model import LinearRegression\n",
    "from sklearn.metrics import mean_squared_error\n",
    "import math"
   ]
  },
  {
   "cell_type": "code",
   "execution_count": 9,
   "metadata": {
    "colab": {
     "base_uri": "https://localhost:8080/",
     "height": 955
    },
    "id": "WEJ-yFtEdarx",
    "outputId": "42279946-52e6-4730-9555-9a773bb39155"
   },
   "outputs": [
    {
     "data": {
      "text/html": [
       "<div>\n",
       "<style scoped>\n",
       "    .dataframe tbody tr th:only-of-type {\n",
       "        vertical-align: middle;\n",
       "    }\n",
       "\n",
       "    .dataframe tbody tr th {\n",
       "        vertical-align: top;\n",
       "    }\n",
       "\n",
       "    .dataframe thead th {\n",
       "        text-align: right;\n",
       "    }\n",
       "</style>\n",
       "<table border=\"1\" class=\"dataframe\">\n",
       "  <thead>\n",
       "    <tr style=\"text-align: right;\">\n",
       "      <th></th>\n",
       "      <th>status</th>\n",
       "      <th>card_present_flag</th>\n",
       "      <th>bpay_biller_code</th>\n",
       "      <th>account</th>\n",
       "      <th>currency</th>\n",
       "      <th>long_lat</th>\n",
       "      <th>txn_description</th>\n",
       "      <th>merchant_id</th>\n",
       "      <th>merchant_code</th>\n",
       "      <th>first_name</th>\n",
       "      <th>...</th>\n",
       "      <th>age</th>\n",
       "      <th>merchant_suburb</th>\n",
       "      <th>merchant_state</th>\n",
       "      <th>extraction</th>\n",
       "      <th>amount</th>\n",
       "      <th>transaction_id</th>\n",
       "      <th>country</th>\n",
       "      <th>customer_id</th>\n",
       "      <th>merchant_long_lat</th>\n",
       "      <th>movement</th>\n",
       "    </tr>\n",
       "  </thead>\n",
       "  <tbody>\n",
       "    <tr>\n",
       "      <th>0</th>\n",
       "      <td>authorized</td>\n",
       "      <td>1.0</td>\n",
       "      <td>NaN</td>\n",
       "      <td>ACC-1598451071</td>\n",
       "      <td>AUD</td>\n",
       "      <td>153.41 -27.95</td>\n",
       "      <td>POS</td>\n",
       "      <td>81c48296-73be-44a7-befa-d053f48ce7cd</td>\n",
       "      <td>NaN</td>\n",
       "      <td>Diana</td>\n",
       "      <td>...</td>\n",
       "      <td>26</td>\n",
       "      <td>Ashmore</td>\n",
       "      <td>QLD</td>\n",
       "      <td>2018-08-01T01:01:15.000+0000</td>\n",
       "      <td>16.25</td>\n",
       "      <td>a623070bfead4541a6b0fff8a09e706c</td>\n",
       "      <td>Australia</td>\n",
       "      <td>CUS-2487424745</td>\n",
       "      <td>153.38 -27.99</td>\n",
       "      <td>debit</td>\n",
       "    </tr>\n",
       "    <tr>\n",
       "      <th>1</th>\n",
       "      <td>authorized</td>\n",
       "      <td>0.0</td>\n",
       "      <td>NaN</td>\n",
       "      <td>ACC-1598451071</td>\n",
       "      <td>AUD</td>\n",
       "      <td>153.41 -27.95</td>\n",
       "      <td>SALES-POS</td>\n",
       "      <td>830a451c-316e-4a6a-bf25-e37caedca49e</td>\n",
       "      <td>NaN</td>\n",
       "      <td>Diana</td>\n",
       "      <td>...</td>\n",
       "      <td>26</td>\n",
       "      <td>Sydney</td>\n",
       "      <td>NSW</td>\n",
       "      <td>2018-08-01T01:13:45.000+0000</td>\n",
       "      <td>14.19</td>\n",
       "      <td>13270a2a902145da9db4c951e04b51b9</td>\n",
       "      <td>Australia</td>\n",
       "      <td>CUS-2487424745</td>\n",
       "      <td>151.21 -33.87</td>\n",
       "      <td>debit</td>\n",
       "    </tr>\n",
       "    <tr>\n",
       "      <th>2</th>\n",
       "      <td>authorized</td>\n",
       "      <td>1.0</td>\n",
       "      <td>NaN</td>\n",
       "      <td>ACC-1222300524</td>\n",
       "      <td>AUD</td>\n",
       "      <td>151.23 -33.94</td>\n",
       "      <td>POS</td>\n",
       "      <td>835c231d-8cdf-4e96-859d-e9d571760cf0</td>\n",
       "      <td>NaN</td>\n",
       "      <td>Michael</td>\n",
       "      <td>...</td>\n",
       "      <td>38</td>\n",
       "      <td>Sydney</td>\n",
       "      <td>NSW</td>\n",
       "      <td>2018-08-01T01:26:15.000+0000</td>\n",
       "      <td>6.42</td>\n",
       "      <td>feb79e7ecd7048a5a36ec889d1a94270</td>\n",
       "      <td>Australia</td>\n",
       "      <td>CUS-2142601169</td>\n",
       "      <td>151.21 -33.87</td>\n",
       "      <td>debit</td>\n",
       "    </tr>\n",
       "    <tr>\n",
       "      <th>3</th>\n",
       "      <td>authorized</td>\n",
       "      <td>1.0</td>\n",
       "      <td>NaN</td>\n",
       "      <td>ACC-1037050564</td>\n",
       "      <td>AUD</td>\n",
       "      <td>153.10 -27.66</td>\n",
       "      <td>SALES-POS</td>\n",
       "      <td>48514682-c78a-4a88-b0da-2d6302e64673</td>\n",
       "      <td>NaN</td>\n",
       "      <td>Rhonda</td>\n",
       "      <td>...</td>\n",
       "      <td>40</td>\n",
       "      <td>Buderim</td>\n",
       "      <td>QLD</td>\n",
       "      <td>2018-08-01T01:38:45.000+0000</td>\n",
       "      <td>40.90</td>\n",
       "      <td>2698170da3704fd981b15e64a006079e</td>\n",
       "      <td>Australia</td>\n",
       "      <td>CUS-1614226872</td>\n",
       "      <td>153.05 -26.68</td>\n",
       "      <td>debit</td>\n",
       "    </tr>\n",
       "    <tr>\n",
       "      <th>4</th>\n",
       "      <td>authorized</td>\n",
       "      <td>1.0</td>\n",
       "      <td>NaN</td>\n",
       "      <td>ACC-1598451071</td>\n",
       "      <td>AUD</td>\n",
       "      <td>153.41 -27.95</td>\n",
       "      <td>SALES-POS</td>\n",
       "      <td>b4e02c10-0852-4273-b8fd-7b3395e32eb0</td>\n",
       "      <td>NaN</td>\n",
       "      <td>Diana</td>\n",
       "      <td>...</td>\n",
       "      <td>26</td>\n",
       "      <td>Mermaid Beach</td>\n",
       "      <td>QLD</td>\n",
       "      <td>2018-08-01T01:51:15.000+0000</td>\n",
       "      <td>3.25</td>\n",
       "      <td>329adf79878c4cf0aeb4188b4691c266</td>\n",
       "      <td>Australia</td>\n",
       "      <td>CUS-2487424745</td>\n",
       "      <td>153.44 -28.06</td>\n",
       "      <td>debit</td>\n",
       "    </tr>\n",
       "    <tr>\n",
       "      <th>...</th>\n",
       "      <td>...</td>\n",
       "      <td>...</td>\n",
       "      <td>...</td>\n",
       "      <td>...</td>\n",
       "      <td>...</td>\n",
       "      <td>...</td>\n",
       "      <td>...</td>\n",
       "      <td>...</td>\n",
       "      <td>...</td>\n",
       "      <td>...</td>\n",
       "      <td>...</td>\n",
       "      <td>...</td>\n",
       "      <td>...</td>\n",
       "      <td>...</td>\n",
       "      <td>...</td>\n",
       "      <td>...</td>\n",
       "      <td>...</td>\n",
       "      <td>...</td>\n",
       "      <td>...</td>\n",
       "      <td>...</td>\n",
       "      <td>...</td>\n",
       "    </tr>\n",
       "    <tr>\n",
       "      <th>12038</th>\n",
       "      <td>authorized</td>\n",
       "      <td>0.0</td>\n",
       "      <td>NaN</td>\n",
       "      <td>ACC-3021093232</td>\n",
       "      <td>AUD</td>\n",
       "      <td>149.83 -29.47</td>\n",
       "      <td>POS</td>\n",
       "      <td>32aa73dc-b7c2-4161-b14d-6271b96ce792</td>\n",
       "      <td>NaN</td>\n",
       "      <td>Melissa</td>\n",
       "      <td>...</td>\n",
       "      <td>30</td>\n",
       "      <td>Ringwood</td>\n",
       "      <td>VIC</td>\n",
       "      <td>2018-10-31T23:09:06.000+0000</td>\n",
       "      <td>9.79</td>\n",
       "      <td>f2e3e695c2ee4c50a4c8747f852cbe2e</td>\n",
       "      <td>Australia</td>\n",
       "      <td>CUS-55310383</td>\n",
       "      <td>145.23 -37.81</td>\n",
       "      <td>debit</td>\n",
       "    </tr>\n",
       "    <tr>\n",
       "      <th>12039</th>\n",
       "      <td>authorized</td>\n",
       "      <td>1.0</td>\n",
       "      <td>NaN</td>\n",
       "      <td>ACC-1608363396</td>\n",
       "      <td>AUD</td>\n",
       "      <td>151.22 -33.87</td>\n",
       "      <td>SALES-POS</td>\n",
       "      <td>296a0500-8552-48ac-ac81-ec37065b568e</td>\n",
       "      <td>NaN</td>\n",
       "      <td>Robert</td>\n",
       "      <td>...</td>\n",
       "      <td>20</td>\n",
       "      <td>Casula</td>\n",
       "      <td>NSW</td>\n",
       "      <td>2018-10-31T23:21:46.000+0000</td>\n",
       "      <td>63.87</td>\n",
       "      <td>56e147e5485f4683b9076fcaaed76640</td>\n",
       "      <td>Australia</td>\n",
       "      <td>CUS-2688605418</td>\n",
       "      <td>150.88 -33.96</td>\n",
       "      <td>debit</td>\n",
       "    </tr>\n",
       "    <tr>\n",
       "      <th>12040</th>\n",
       "      <td>authorized</td>\n",
       "      <td>1.0</td>\n",
       "      <td>NaN</td>\n",
       "      <td>ACC-3827517394</td>\n",
       "      <td>AUD</td>\n",
       "      <td>151.12 -33.89</td>\n",
       "      <td>POS</td>\n",
       "      <td>e5975ab4-08f7-4725-a369-24cc0e35ed6e</td>\n",
       "      <td>NaN</td>\n",
       "      <td>Craig</td>\n",
       "      <td>...</td>\n",
       "      <td>28</td>\n",
       "      <td>Kings Park</td>\n",
       "      <td>NSW</td>\n",
       "      <td>2018-10-31T23:34:25.000+0000</td>\n",
       "      <td>43.96</td>\n",
       "      <td>2fdd4681827343f6af2e6519644a684a</td>\n",
       "      <td>Australia</td>\n",
       "      <td>CUS-2663907001</td>\n",
       "      <td>150.92 -33.74</td>\n",
       "      <td>debit</td>\n",
       "    </tr>\n",
       "    <tr>\n",
       "      <th>12041</th>\n",
       "      <td>authorized</td>\n",
       "      <td>1.0</td>\n",
       "      <td>NaN</td>\n",
       "      <td>ACC-2920611728</td>\n",
       "      <td>AUD</td>\n",
       "      <td>144.96 -37.76</td>\n",
       "      <td>SALES-POS</td>\n",
       "      <td>af49051a-591d-4b08-bd3c-27730b70ed37</td>\n",
       "      <td>NaN</td>\n",
       "      <td>Tyler</td>\n",
       "      <td>...</td>\n",
       "      <td>69</td>\n",
       "      <td>Oakleigh</td>\n",
       "      <td>VIC</td>\n",
       "      <td>2018-10-31T23:47:05.000+0000</td>\n",
       "      <td>30.77</td>\n",
       "      <td>74aa9cd7e4af4c6d9cd7dbd28e9aedc9</td>\n",
       "      <td>Australia</td>\n",
       "      <td>CUS-1388323263</td>\n",
       "      <td>145.09 -37.91</td>\n",
       "      <td>debit</td>\n",
       "    </tr>\n",
       "    <tr>\n",
       "      <th>12042</th>\n",
       "      <td>authorized</td>\n",
       "      <td>1.0</td>\n",
       "      <td>NaN</td>\n",
       "      <td>ACC-1443681913</td>\n",
       "      <td>AUD</td>\n",
       "      <td>150.92 -33.77</td>\n",
       "      <td>SALES-POS</td>\n",
       "      <td>f31f4b14-2040-40ec-a120-b141bb274cbd</td>\n",
       "      <td>NaN</td>\n",
       "      <td>Ryan</td>\n",
       "      <td>...</td>\n",
       "      <td>31</td>\n",
       "      <td>Mascot</td>\n",
       "      <td>NSW</td>\n",
       "      <td>2018-10-31T23:59:44.000+0000</td>\n",
       "      <td>22.36</td>\n",
       "      <td>6d5218e04e8040b9996850ce11a19426</td>\n",
       "      <td>Australia</td>\n",
       "      <td>CUS-3129499595</td>\n",
       "      <td>151.19 -33.93</td>\n",
       "      <td>debit</td>\n",
       "    </tr>\n",
       "  </tbody>\n",
       "</table>\n",
       "<p>12043 rows × 23 columns</p>\n",
       "</div>"
      ],
      "text/plain": [
       "           status  card_present_flag bpay_biller_code         account  \\\n",
       "0      authorized                1.0              NaN  ACC-1598451071   \n",
       "1      authorized                0.0              NaN  ACC-1598451071   \n",
       "2      authorized                1.0              NaN  ACC-1222300524   \n",
       "3      authorized                1.0              NaN  ACC-1037050564   \n",
       "4      authorized                1.0              NaN  ACC-1598451071   \n",
       "...           ...                ...              ...             ...   \n",
       "12038  authorized                0.0              NaN  ACC-3021093232   \n",
       "12039  authorized                1.0              NaN  ACC-1608363396   \n",
       "12040  authorized                1.0              NaN  ACC-3827517394   \n",
       "12041  authorized                1.0              NaN  ACC-2920611728   \n",
       "12042  authorized                1.0              NaN  ACC-1443681913   \n",
       "\n",
       "      currency       long_lat txn_description  \\\n",
       "0          AUD  153.41 -27.95             POS   \n",
       "1          AUD  153.41 -27.95       SALES-POS   \n",
       "2          AUD  151.23 -33.94             POS   \n",
       "3          AUD  153.10 -27.66       SALES-POS   \n",
       "4          AUD  153.41 -27.95       SALES-POS   \n",
       "...        ...            ...             ...   \n",
       "12038      AUD  149.83 -29.47             POS   \n",
       "12039      AUD  151.22 -33.87       SALES-POS   \n",
       "12040      AUD  151.12 -33.89             POS   \n",
       "12041      AUD  144.96 -37.76       SALES-POS   \n",
       "12042      AUD  150.92 -33.77       SALES-POS   \n",
       "\n",
       "                                merchant_id  merchant_code first_name  ...  \\\n",
       "0      81c48296-73be-44a7-befa-d053f48ce7cd            NaN      Diana  ...   \n",
       "1      830a451c-316e-4a6a-bf25-e37caedca49e            NaN      Diana  ...   \n",
       "2      835c231d-8cdf-4e96-859d-e9d571760cf0            NaN    Michael  ...   \n",
       "3      48514682-c78a-4a88-b0da-2d6302e64673            NaN     Rhonda  ...   \n",
       "4      b4e02c10-0852-4273-b8fd-7b3395e32eb0            NaN      Diana  ...   \n",
       "...                                     ...            ...        ...  ...   \n",
       "12038  32aa73dc-b7c2-4161-b14d-6271b96ce792            NaN    Melissa  ...   \n",
       "12039  296a0500-8552-48ac-ac81-ec37065b568e            NaN     Robert  ...   \n",
       "12040  e5975ab4-08f7-4725-a369-24cc0e35ed6e            NaN      Craig  ...   \n",
       "12041  af49051a-591d-4b08-bd3c-27730b70ed37            NaN      Tyler  ...   \n",
       "12042  f31f4b14-2040-40ec-a120-b141bb274cbd            NaN       Ryan  ...   \n",
       "\n",
       "       age merchant_suburb merchant_state                    extraction  \\\n",
       "0       26         Ashmore            QLD  2018-08-01T01:01:15.000+0000   \n",
       "1       26          Sydney            NSW  2018-08-01T01:13:45.000+0000   \n",
       "2       38          Sydney            NSW  2018-08-01T01:26:15.000+0000   \n",
       "3       40         Buderim            QLD  2018-08-01T01:38:45.000+0000   \n",
       "4       26   Mermaid Beach            QLD  2018-08-01T01:51:15.000+0000   \n",
       "...    ...             ...            ...                           ...   \n",
       "12038   30        Ringwood            VIC  2018-10-31T23:09:06.000+0000   \n",
       "12039   20          Casula            NSW  2018-10-31T23:21:46.000+0000   \n",
       "12040   28      Kings Park            NSW  2018-10-31T23:34:25.000+0000   \n",
       "12041   69        Oakleigh            VIC  2018-10-31T23:47:05.000+0000   \n",
       "12042   31          Mascot            NSW  2018-10-31T23:59:44.000+0000   \n",
       "\n",
       "      amount                    transaction_id    country     customer_id  \\\n",
       "0      16.25  a623070bfead4541a6b0fff8a09e706c  Australia  CUS-2487424745   \n",
       "1      14.19  13270a2a902145da9db4c951e04b51b9  Australia  CUS-2487424745   \n",
       "2       6.42  feb79e7ecd7048a5a36ec889d1a94270  Australia  CUS-2142601169   \n",
       "3      40.90  2698170da3704fd981b15e64a006079e  Australia  CUS-1614226872   \n",
       "4       3.25  329adf79878c4cf0aeb4188b4691c266  Australia  CUS-2487424745   \n",
       "...      ...                               ...        ...             ...   \n",
       "12038   9.79  f2e3e695c2ee4c50a4c8747f852cbe2e  Australia    CUS-55310383   \n",
       "12039  63.87  56e147e5485f4683b9076fcaaed76640  Australia  CUS-2688605418   \n",
       "12040  43.96  2fdd4681827343f6af2e6519644a684a  Australia  CUS-2663907001   \n",
       "12041  30.77  74aa9cd7e4af4c6d9cd7dbd28e9aedc9  Australia  CUS-1388323263   \n",
       "12042  22.36  6d5218e04e8040b9996850ce11a19426  Australia  CUS-3129499595   \n",
       "\n",
       "      merchant_long_lat movement  \n",
       "0         153.38 -27.99    debit  \n",
       "1         151.21 -33.87    debit  \n",
       "2         151.21 -33.87    debit  \n",
       "3         153.05 -26.68    debit  \n",
       "4         153.44 -28.06    debit  \n",
       "...                 ...      ...  \n",
       "12038     145.23 -37.81    debit  \n",
       "12039     150.88 -33.96    debit  \n",
       "12040     150.92 -33.74    debit  \n",
       "12041     145.09 -37.91    debit  \n",
       "12042     151.19 -33.93    debit  \n",
       "\n",
       "[12043 rows x 23 columns]"
      ]
     },
     "execution_count": 9,
     "metadata": {},
     "output_type": "execute_result"
    }
   ],
   "source": [
    "df=pd.read_excel(\"ANZ synthesised transaction dataset.xlsx\")\n",
    "df"
   ]
  },
  {
   "cell_type": "code",
   "execution_count": 10,
   "metadata": {
    "colab": {
     "base_uri": "https://localhost:8080/"
    },
    "id": "I3F_I3iZelH1",
    "outputId": "7939562a-bd81-47ed-c834-455bf1742466"
   },
   "outputs": [
    {
     "name": "stdout",
     "output_type": "stream",
     "text": [
      "<class 'pandas.core.frame.DataFrame'>\n",
      "RangeIndex: 12043 entries, 0 to 12042\n",
      "Data columns (total 23 columns):\n",
      " #   Column             Non-Null Count  Dtype         \n",
      "---  ------             --------------  -----         \n",
      " 0   status             12043 non-null  object        \n",
      " 1   card_present_flag  7717 non-null   float64       \n",
      " 2   bpay_biller_code   885 non-null    object        \n",
      " 3   account            12043 non-null  object        \n",
      " 4   currency           12043 non-null  object        \n",
      " 5   long_lat           12043 non-null  object        \n",
      " 6   txn_description    12043 non-null  object        \n",
      " 7   merchant_id        7717 non-null   object        \n",
      " 8   merchant_code      883 non-null    float64       \n",
      " 9   first_name         12043 non-null  object        \n",
      " 10  balance            12043 non-null  float64       \n",
      " 11  date               12043 non-null  datetime64[ns]\n",
      " 12  gender             12043 non-null  object        \n",
      " 13  age                12043 non-null  int64         \n",
      " 14  merchant_suburb    7717 non-null   object        \n",
      " 15  merchant_state     7717 non-null   object        \n",
      " 16  extraction         12043 non-null  object        \n",
      " 17  amount             12043 non-null  float64       \n",
      " 18  transaction_id     12043 non-null  object        \n",
      " 19  country            12043 non-null  object        \n",
      " 20  customer_id        12043 non-null  object        \n",
      " 21  merchant_long_lat  7717 non-null   object        \n",
      " 22  movement           12043 non-null  object        \n",
      "dtypes: datetime64[ns](1), float64(4), int64(1), object(17)\n",
      "memory usage: 2.1+ MB\n"
     ]
    }
   ],
   "source": [
    "df.info()"
   ]
  },
  {
   "cell_type": "code",
   "execution_count": 11,
   "metadata": {
    "colab": {
     "base_uri": "https://localhost:8080/",
     "height": 294
    },
    "id": "BARynamCerkd",
    "outputId": "76611e81-de68-4b24-a3ec-802a781fe34b"
   },
   "outputs": [
    {
     "data": {
      "text/html": [
       "<div>\n",
       "<style scoped>\n",
       "    .dataframe tbody tr th:only-of-type {\n",
       "        vertical-align: middle;\n",
       "    }\n",
       "\n",
       "    .dataframe tbody tr th {\n",
       "        vertical-align: top;\n",
       "    }\n",
       "\n",
       "    .dataframe thead th {\n",
       "        text-align: right;\n",
       "    }\n",
       "</style>\n",
       "<table border=\"1\" class=\"dataframe\">\n",
       "  <thead>\n",
       "    <tr style=\"text-align: right;\">\n",
       "      <th></th>\n",
       "      <th>card_present_flag</th>\n",
       "      <th>merchant_code</th>\n",
       "      <th>balance</th>\n",
       "      <th>age</th>\n",
       "      <th>amount</th>\n",
       "    </tr>\n",
       "  </thead>\n",
       "  <tbody>\n",
       "    <tr>\n",
       "      <th>count</th>\n",
       "      <td>7717.000000</td>\n",
       "      <td>883.0</td>\n",
       "      <td>12043.000000</td>\n",
       "      <td>12043.000000</td>\n",
       "      <td>12043.000000</td>\n",
       "    </tr>\n",
       "    <tr>\n",
       "      <th>mean</th>\n",
       "      <td>0.802644</td>\n",
       "      <td>0.0</td>\n",
       "      <td>14704.195553</td>\n",
       "      <td>30.582330</td>\n",
       "      <td>187.933588</td>\n",
       "    </tr>\n",
       "    <tr>\n",
       "      <th>std</th>\n",
       "      <td>0.398029</td>\n",
       "      <td>0.0</td>\n",
       "      <td>31503.722652</td>\n",
       "      <td>10.046343</td>\n",
       "      <td>592.599934</td>\n",
       "    </tr>\n",
       "    <tr>\n",
       "      <th>min</th>\n",
       "      <td>0.000000</td>\n",
       "      <td>0.0</td>\n",
       "      <td>0.240000</td>\n",
       "      <td>18.000000</td>\n",
       "      <td>0.100000</td>\n",
       "    </tr>\n",
       "    <tr>\n",
       "      <th>25%</th>\n",
       "      <td>1.000000</td>\n",
       "      <td>0.0</td>\n",
       "      <td>3158.585000</td>\n",
       "      <td>22.000000</td>\n",
       "      <td>16.000000</td>\n",
       "    </tr>\n",
       "    <tr>\n",
       "      <th>50%</th>\n",
       "      <td>1.000000</td>\n",
       "      <td>0.0</td>\n",
       "      <td>6432.010000</td>\n",
       "      <td>28.000000</td>\n",
       "      <td>29.000000</td>\n",
       "    </tr>\n",
       "    <tr>\n",
       "      <th>75%</th>\n",
       "      <td>1.000000</td>\n",
       "      <td>0.0</td>\n",
       "      <td>12465.945000</td>\n",
       "      <td>38.000000</td>\n",
       "      <td>53.655000</td>\n",
       "    </tr>\n",
       "    <tr>\n",
       "      <th>max</th>\n",
       "      <td>1.000000</td>\n",
       "      <td>0.0</td>\n",
       "      <td>267128.520000</td>\n",
       "      <td>78.000000</td>\n",
       "      <td>8835.980000</td>\n",
       "    </tr>\n",
       "  </tbody>\n",
       "</table>\n",
       "</div>"
      ],
      "text/plain": [
       "       card_present_flag  merchant_code        balance           age  \\\n",
       "count        7717.000000          883.0   12043.000000  12043.000000   \n",
       "mean            0.802644            0.0   14704.195553     30.582330   \n",
       "std             0.398029            0.0   31503.722652     10.046343   \n",
       "min             0.000000            0.0       0.240000     18.000000   \n",
       "25%             1.000000            0.0    3158.585000     22.000000   \n",
       "50%             1.000000            0.0    6432.010000     28.000000   \n",
       "75%             1.000000            0.0   12465.945000     38.000000   \n",
       "max             1.000000            0.0  267128.520000     78.000000   \n",
       "\n",
       "             amount  \n",
       "count  12043.000000  \n",
       "mean     187.933588  \n",
       "std      592.599934  \n",
       "min        0.100000  \n",
       "25%       16.000000  \n",
       "50%       29.000000  \n",
       "75%       53.655000  \n",
       "max     8835.980000  "
      ]
     },
     "execution_count": 11,
     "metadata": {},
     "output_type": "execute_result"
    }
   ],
   "source": [
    "df.describe()"
   ]
  },
  {
   "cell_type": "code",
   "execution_count": 12,
   "metadata": {
    "colab": {
     "base_uri": "https://localhost:8080/"
    },
    "id": "L8h-ZrOIe3_Z",
    "outputId": "35791f25-f4dd-4e70-fb80-898d0304c870"
   },
   "outputs": [
    {
     "data": {
      "text/plain": [
       "(12043, 23)"
      ]
     },
     "execution_count": 12,
     "metadata": {},
     "output_type": "execute_result"
    }
   ],
   "source": [
    "df.shape"
   ]
  },
  {
   "cell_type": "code",
   "execution_count": 13,
   "metadata": {
    "colab": {
     "base_uri": "https://localhost:8080/"
    },
    "id": "RQcdT-05ewGu",
    "outputId": "811d78b8-7e5d-4274-bfd7-699ca7d32dbe"
   },
   "outputs": [
    {
     "data": {
      "text/plain": [
       "status                   0\n",
       "card_present_flag     4326\n",
       "bpay_biller_code     11158\n",
       "account                  0\n",
       "currency                 0\n",
       "long_lat                 0\n",
       "txn_description          0\n",
       "merchant_id           4326\n",
       "merchant_code        11160\n",
       "first_name               0\n",
       "balance                  0\n",
       "date                     0\n",
       "gender                   0\n",
       "age                      0\n",
       "merchant_suburb       4326\n",
       "merchant_state        4326\n",
       "extraction               0\n",
       "amount                   0\n",
       "transaction_id           0\n",
       "country                  0\n",
       "customer_id              0\n",
       "merchant_long_lat     4326\n",
       "movement                 0\n",
       "dtype: int64"
      ]
     },
     "execution_count": 13,
     "metadata": {},
     "output_type": "execute_result"
    }
   ],
   "source": [
    "df.isnull().sum()"
   ]
  },
  {
   "cell_type": "code",
   "execution_count": 14,
   "metadata": {
    "colab": {
     "base_uri": "https://localhost:8080/"
    },
    "id": "UqEiyg9qe2lY",
    "outputId": "db2623ba-66d2-4405-a92e-4290501dad0c"
   },
   "outputs": [
    {
     "data": {
      "text/plain": [
       "status               0\n",
       "card_present_flag    0\n",
       "account              0\n",
       "long_lat             0\n",
       "txn_description      0\n",
       "merchant_id          0\n",
       "first_name           0\n",
       "balance              0\n",
       "date                 0\n",
       "gender               0\n",
       "age                  0\n",
       "merchant_suburb      0\n",
       "merchant_state       0\n",
       "extraction           0\n",
       "amount               0\n",
       "transaction_id       0\n",
       "country              0\n",
       "customer_id          0\n",
       "merchant_long_lat    0\n",
       "movement             0\n",
       "dtype: int64"
      ]
     },
     "execution_count": 14,
     "metadata": {},
     "output_type": "execute_result"
    }
   ],
   "source": [
    "#drop bpay  and merchant_code as ir has many null values and it wont be any use to us\n",
    "#we will remove currency as well beacuse there is only one type of it\n",
    "df=df.drop([\"bpay_biller_code\",\"merchant_code\",\"currency\"],axis=1)\n",
    "#fill the remaining values with -1 which represents as null\n",
    "\n",
    "cols=[\"card_present_flag\",\"merchant_id\",\"merchant_suburb\",\"merchant_state\",\"merchant_long_lat\"]\n",
    "for x in cols:\n",
    "  df[x].fillna(-1,inplace=True)\n",
    "df.isnull().sum()"
   ]
  },
  {
   "cell_type": "code",
   "execution_count": 15,
   "metadata": {
    "colab": {
     "base_uri": "https://localhost:8080/",
     "height": 955
    },
    "id": "7XawpWWkpS7w",
    "outputId": "4a85792c-8575-4256-ab79-eed89ac5a808"
   },
   "outputs": [
    {
     "data": {
      "text/html": [
       "<div>\n",
       "<style scoped>\n",
       "    .dataframe tbody tr th:only-of-type {\n",
       "        vertical-align: middle;\n",
       "    }\n",
       "\n",
       "    .dataframe tbody tr th {\n",
       "        vertical-align: top;\n",
       "    }\n",
       "\n",
       "    .dataframe thead th {\n",
       "        text-align: right;\n",
       "    }\n",
       "</style>\n",
       "<table border=\"1\" class=\"dataframe\">\n",
       "  <thead>\n",
       "    <tr style=\"text-align: right;\">\n",
       "      <th></th>\n",
       "      <th>status</th>\n",
       "      <th>card_present_flag</th>\n",
       "      <th>account</th>\n",
       "      <th>long_lat</th>\n",
       "      <th>txn_description</th>\n",
       "      <th>merchant_id</th>\n",
       "      <th>first_name</th>\n",
       "      <th>balance</th>\n",
       "      <th>date</th>\n",
       "      <th>gender</th>\n",
       "      <th>age</th>\n",
       "      <th>merchant_suburb</th>\n",
       "      <th>merchant_state</th>\n",
       "      <th>extraction</th>\n",
       "      <th>amount</th>\n",
       "      <th>transaction_id</th>\n",
       "      <th>country</th>\n",
       "      <th>customer_id</th>\n",
       "      <th>merchant_long_lat</th>\n",
       "      <th>movement</th>\n",
       "    </tr>\n",
       "  </thead>\n",
       "  <tbody>\n",
       "    <tr>\n",
       "      <th>0</th>\n",
       "      <td>authorized</td>\n",
       "      <td>1.0</td>\n",
       "      <td>ACC-1598451071</td>\n",
       "      <td>153.41 -27.95</td>\n",
       "      <td>POS</td>\n",
       "      <td>81c48296-73be-44a7-befa-d053f48ce7cd</td>\n",
       "      <td>Diana</td>\n",
       "      <td>35.39</td>\n",
       "      <td>2018-08-01</td>\n",
       "      <td>F</td>\n",
       "      <td>26</td>\n",
       "      <td>Ashmore</td>\n",
       "      <td>QLD</td>\n",
       "      <td>2018-08-01T01:01:15.000+0000</td>\n",
       "      <td>16.25</td>\n",
       "      <td>a623070bfead4541a6b0fff8a09e706c</td>\n",
       "      <td>Australia</td>\n",
       "      <td>CUS-2487424745</td>\n",
       "      <td>153.38 -27.99</td>\n",
       "      <td>debit</td>\n",
       "    </tr>\n",
       "    <tr>\n",
       "      <th>1</th>\n",
       "      <td>authorized</td>\n",
       "      <td>0.0</td>\n",
       "      <td>ACC-1598451071</td>\n",
       "      <td>153.41 -27.95</td>\n",
       "      <td>SALES-POS</td>\n",
       "      <td>830a451c-316e-4a6a-bf25-e37caedca49e</td>\n",
       "      <td>Diana</td>\n",
       "      <td>21.20</td>\n",
       "      <td>2018-08-01</td>\n",
       "      <td>F</td>\n",
       "      <td>26</td>\n",
       "      <td>Sydney</td>\n",
       "      <td>NSW</td>\n",
       "      <td>2018-08-01T01:13:45.000+0000</td>\n",
       "      <td>14.19</td>\n",
       "      <td>13270a2a902145da9db4c951e04b51b9</td>\n",
       "      <td>Australia</td>\n",
       "      <td>CUS-2487424745</td>\n",
       "      <td>151.21 -33.87</td>\n",
       "      <td>debit</td>\n",
       "    </tr>\n",
       "    <tr>\n",
       "      <th>2</th>\n",
       "      <td>authorized</td>\n",
       "      <td>1.0</td>\n",
       "      <td>ACC-1222300524</td>\n",
       "      <td>151.23 -33.94</td>\n",
       "      <td>POS</td>\n",
       "      <td>835c231d-8cdf-4e96-859d-e9d571760cf0</td>\n",
       "      <td>Michael</td>\n",
       "      <td>5.71</td>\n",
       "      <td>2018-08-01</td>\n",
       "      <td>M</td>\n",
       "      <td>38</td>\n",
       "      <td>Sydney</td>\n",
       "      <td>NSW</td>\n",
       "      <td>2018-08-01T01:26:15.000+0000</td>\n",
       "      <td>6.42</td>\n",
       "      <td>feb79e7ecd7048a5a36ec889d1a94270</td>\n",
       "      <td>Australia</td>\n",
       "      <td>CUS-2142601169</td>\n",
       "      <td>151.21 -33.87</td>\n",
       "      <td>debit</td>\n",
       "    </tr>\n",
       "    <tr>\n",
       "      <th>3</th>\n",
       "      <td>authorized</td>\n",
       "      <td>1.0</td>\n",
       "      <td>ACC-1037050564</td>\n",
       "      <td>153.10 -27.66</td>\n",
       "      <td>SALES-POS</td>\n",
       "      <td>48514682-c78a-4a88-b0da-2d6302e64673</td>\n",
       "      <td>Rhonda</td>\n",
       "      <td>2117.22</td>\n",
       "      <td>2018-08-01</td>\n",
       "      <td>F</td>\n",
       "      <td>40</td>\n",
       "      <td>Buderim</td>\n",
       "      <td>QLD</td>\n",
       "      <td>2018-08-01T01:38:45.000+0000</td>\n",
       "      <td>40.90</td>\n",
       "      <td>2698170da3704fd981b15e64a006079e</td>\n",
       "      <td>Australia</td>\n",
       "      <td>CUS-1614226872</td>\n",
       "      <td>153.05 -26.68</td>\n",
       "      <td>debit</td>\n",
       "    </tr>\n",
       "    <tr>\n",
       "      <th>4</th>\n",
       "      <td>authorized</td>\n",
       "      <td>1.0</td>\n",
       "      <td>ACC-1598451071</td>\n",
       "      <td>153.41 -27.95</td>\n",
       "      <td>SALES-POS</td>\n",
       "      <td>b4e02c10-0852-4273-b8fd-7b3395e32eb0</td>\n",
       "      <td>Diana</td>\n",
       "      <td>17.95</td>\n",
       "      <td>2018-08-01</td>\n",
       "      <td>F</td>\n",
       "      <td>26</td>\n",
       "      <td>Mermaid Beach</td>\n",
       "      <td>QLD</td>\n",
       "      <td>2018-08-01T01:51:15.000+0000</td>\n",
       "      <td>3.25</td>\n",
       "      <td>329adf79878c4cf0aeb4188b4691c266</td>\n",
       "      <td>Australia</td>\n",
       "      <td>CUS-2487424745</td>\n",
       "      <td>153.44 -28.06</td>\n",
       "      <td>debit</td>\n",
       "    </tr>\n",
       "    <tr>\n",
       "      <th>...</th>\n",
       "      <td>...</td>\n",
       "      <td>...</td>\n",
       "      <td>...</td>\n",
       "      <td>...</td>\n",
       "      <td>...</td>\n",
       "      <td>...</td>\n",
       "      <td>...</td>\n",
       "      <td>...</td>\n",
       "      <td>...</td>\n",
       "      <td>...</td>\n",
       "      <td>...</td>\n",
       "      <td>...</td>\n",
       "      <td>...</td>\n",
       "      <td>...</td>\n",
       "      <td>...</td>\n",
       "      <td>...</td>\n",
       "      <td>...</td>\n",
       "      <td>...</td>\n",
       "      <td>...</td>\n",
       "      <td>...</td>\n",
       "    </tr>\n",
       "    <tr>\n",
       "      <th>12038</th>\n",
       "      <td>authorized</td>\n",
       "      <td>0.0</td>\n",
       "      <td>ACC-3021093232</td>\n",
       "      <td>149.83 -29.47</td>\n",
       "      <td>POS</td>\n",
       "      <td>32aa73dc-b7c2-4161-b14d-6271b96ce792</td>\n",
       "      <td>Melissa</td>\n",
       "      <td>14054.14</td>\n",
       "      <td>2018-10-31</td>\n",
       "      <td>F</td>\n",
       "      <td>30</td>\n",
       "      <td>Ringwood</td>\n",
       "      <td>VIC</td>\n",
       "      <td>2018-10-31T23:09:06.000+0000</td>\n",
       "      <td>9.79</td>\n",
       "      <td>f2e3e695c2ee4c50a4c8747f852cbe2e</td>\n",
       "      <td>Australia</td>\n",
       "      <td>CUS-55310383</td>\n",
       "      <td>145.23 -37.81</td>\n",
       "      <td>debit</td>\n",
       "    </tr>\n",
       "    <tr>\n",
       "      <th>12039</th>\n",
       "      <td>authorized</td>\n",
       "      <td>1.0</td>\n",
       "      <td>ACC-1608363396</td>\n",
       "      <td>151.22 -33.87</td>\n",
       "      <td>SALES-POS</td>\n",
       "      <td>296a0500-8552-48ac-ac81-ec37065b568e</td>\n",
       "      <td>Robert</td>\n",
       "      <td>9137.79</td>\n",
       "      <td>2018-10-31</td>\n",
       "      <td>M</td>\n",
       "      <td>20</td>\n",
       "      <td>Casula</td>\n",
       "      <td>NSW</td>\n",
       "      <td>2018-10-31T23:21:46.000+0000</td>\n",
       "      <td>63.87</td>\n",
       "      <td>56e147e5485f4683b9076fcaaed76640</td>\n",
       "      <td>Australia</td>\n",
       "      <td>CUS-2688605418</td>\n",
       "      <td>150.88 -33.96</td>\n",
       "      <td>debit</td>\n",
       "    </tr>\n",
       "    <tr>\n",
       "      <th>12040</th>\n",
       "      <td>authorized</td>\n",
       "      <td>1.0</td>\n",
       "      <td>ACC-3827517394</td>\n",
       "      <td>151.12 -33.89</td>\n",
       "      <td>POS</td>\n",
       "      <td>e5975ab4-08f7-4725-a369-24cc0e35ed6e</td>\n",
       "      <td>Craig</td>\n",
       "      <td>45394.57</td>\n",
       "      <td>2018-10-31</td>\n",
       "      <td>M</td>\n",
       "      <td>28</td>\n",
       "      <td>Kings Park</td>\n",
       "      <td>NSW</td>\n",
       "      <td>2018-10-31T23:34:25.000+0000</td>\n",
       "      <td>43.96</td>\n",
       "      <td>2fdd4681827343f6af2e6519644a684a</td>\n",
       "      <td>Australia</td>\n",
       "      <td>CUS-2663907001</td>\n",
       "      <td>150.92 -33.74</td>\n",
       "      <td>debit</td>\n",
       "    </tr>\n",
       "    <tr>\n",
       "      <th>12041</th>\n",
       "      <td>authorized</td>\n",
       "      <td>1.0</td>\n",
       "      <td>ACC-2920611728</td>\n",
       "      <td>144.96 -37.76</td>\n",
       "      <td>SALES-POS</td>\n",
       "      <td>af49051a-591d-4b08-bd3c-27730b70ed37</td>\n",
       "      <td>Tyler</td>\n",
       "      <td>11350.67</td>\n",
       "      <td>2018-10-31</td>\n",
       "      <td>M</td>\n",
       "      <td>69</td>\n",
       "      <td>Oakleigh</td>\n",
       "      <td>VIC</td>\n",
       "      <td>2018-10-31T23:47:05.000+0000</td>\n",
       "      <td>30.77</td>\n",
       "      <td>74aa9cd7e4af4c6d9cd7dbd28e9aedc9</td>\n",
       "      <td>Australia</td>\n",
       "      <td>CUS-1388323263</td>\n",
       "      <td>145.09 -37.91</td>\n",
       "      <td>debit</td>\n",
       "    </tr>\n",
       "    <tr>\n",
       "      <th>12042</th>\n",
       "      <td>authorized</td>\n",
       "      <td>1.0</td>\n",
       "      <td>ACC-1443681913</td>\n",
       "      <td>150.92 -33.77</td>\n",
       "      <td>SALES-POS</td>\n",
       "      <td>f31f4b14-2040-40ec-a120-b141bb274cbd</td>\n",
       "      <td>Ryan</td>\n",
       "      <td>5517.91</td>\n",
       "      <td>2018-10-31</td>\n",
       "      <td>M</td>\n",
       "      <td>31</td>\n",
       "      <td>Mascot</td>\n",
       "      <td>NSW</td>\n",
       "      <td>2018-10-31T23:59:44.000+0000</td>\n",
       "      <td>22.36</td>\n",
       "      <td>6d5218e04e8040b9996850ce11a19426</td>\n",
       "      <td>Australia</td>\n",
       "      <td>CUS-3129499595</td>\n",
       "      <td>151.19 -33.93</td>\n",
       "      <td>debit</td>\n",
       "    </tr>\n",
       "  </tbody>\n",
       "</table>\n",
       "<p>12043 rows × 20 columns</p>\n",
       "</div>"
      ],
      "text/plain": [
       "           status  card_present_flag         account       long_lat  \\\n",
       "0      authorized                1.0  ACC-1598451071  153.41 -27.95   \n",
       "1      authorized                0.0  ACC-1598451071  153.41 -27.95   \n",
       "2      authorized                1.0  ACC-1222300524  151.23 -33.94   \n",
       "3      authorized                1.0  ACC-1037050564  153.10 -27.66   \n",
       "4      authorized                1.0  ACC-1598451071  153.41 -27.95   \n",
       "...           ...                ...             ...            ...   \n",
       "12038  authorized                0.0  ACC-3021093232  149.83 -29.47   \n",
       "12039  authorized                1.0  ACC-1608363396  151.22 -33.87   \n",
       "12040  authorized                1.0  ACC-3827517394  151.12 -33.89   \n",
       "12041  authorized                1.0  ACC-2920611728  144.96 -37.76   \n",
       "12042  authorized                1.0  ACC-1443681913  150.92 -33.77   \n",
       "\n",
       "      txn_description                           merchant_id first_name  \\\n",
       "0                 POS  81c48296-73be-44a7-befa-d053f48ce7cd      Diana   \n",
       "1           SALES-POS  830a451c-316e-4a6a-bf25-e37caedca49e      Diana   \n",
       "2                 POS  835c231d-8cdf-4e96-859d-e9d571760cf0    Michael   \n",
       "3           SALES-POS  48514682-c78a-4a88-b0da-2d6302e64673     Rhonda   \n",
       "4           SALES-POS  b4e02c10-0852-4273-b8fd-7b3395e32eb0      Diana   \n",
       "...               ...                                   ...        ...   \n",
       "12038             POS  32aa73dc-b7c2-4161-b14d-6271b96ce792    Melissa   \n",
       "12039       SALES-POS  296a0500-8552-48ac-ac81-ec37065b568e     Robert   \n",
       "12040             POS  e5975ab4-08f7-4725-a369-24cc0e35ed6e      Craig   \n",
       "12041       SALES-POS  af49051a-591d-4b08-bd3c-27730b70ed37      Tyler   \n",
       "12042       SALES-POS  f31f4b14-2040-40ec-a120-b141bb274cbd       Ryan   \n",
       "\n",
       "        balance       date gender  age merchant_suburb merchant_state  \\\n",
       "0         35.39 2018-08-01      F   26         Ashmore            QLD   \n",
       "1         21.20 2018-08-01      F   26          Sydney            NSW   \n",
       "2          5.71 2018-08-01      M   38          Sydney            NSW   \n",
       "3       2117.22 2018-08-01      F   40         Buderim            QLD   \n",
       "4         17.95 2018-08-01      F   26   Mermaid Beach            QLD   \n",
       "...         ...        ...    ...  ...             ...            ...   \n",
       "12038  14054.14 2018-10-31      F   30        Ringwood            VIC   \n",
       "12039   9137.79 2018-10-31      M   20          Casula            NSW   \n",
       "12040  45394.57 2018-10-31      M   28      Kings Park            NSW   \n",
       "12041  11350.67 2018-10-31      M   69        Oakleigh            VIC   \n",
       "12042   5517.91 2018-10-31      M   31          Mascot            NSW   \n",
       "\n",
       "                         extraction  amount                    transaction_id  \\\n",
       "0      2018-08-01T01:01:15.000+0000   16.25  a623070bfead4541a6b0fff8a09e706c   \n",
       "1      2018-08-01T01:13:45.000+0000   14.19  13270a2a902145da9db4c951e04b51b9   \n",
       "2      2018-08-01T01:26:15.000+0000    6.42  feb79e7ecd7048a5a36ec889d1a94270   \n",
       "3      2018-08-01T01:38:45.000+0000   40.90  2698170da3704fd981b15e64a006079e   \n",
       "4      2018-08-01T01:51:15.000+0000    3.25  329adf79878c4cf0aeb4188b4691c266   \n",
       "...                             ...     ...                               ...   \n",
       "12038  2018-10-31T23:09:06.000+0000    9.79  f2e3e695c2ee4c50a4c8747f852cbe2e   \n",
       "12039  2018-10-31T23:21:46.000+0000   63.87  56e147e5485f4683b9076fcaaed76640   \n",
       "12040  2018-10-31T23:34:25.000+0000   43.96  2fdd4681827343f6af2e6519644a684a   \n",
       "12041  2018-10-31T23:47:05.000+0000   30.77  74aa9cd7e4af4c6d9cd7dbd28e9aedc9   \n",
       "12042  2018-10-31T23:59:44.000+0000   22.36  6d5218e04e8040b9996850ce11a19426   \n",
       "\n",
       "         country     customer_id merchant_long_lat movement  \n",
       "0      Australia  CUS-2487424745     153.38 -27.99    debit  \n",
       "1      Australia  CUS-2487424745     151.21 -33.87    debit  \n",
       "2      Australia  CUS-2142601169     151.21 -33.87    debit  \n",
       "3      Australia  CUS-1614226872     153.05 -26.68    debit  \n",
       "4      Australia  CUS-2487424745     153.44 -28.06    debit  \n",
       "...          ...             ...               ...      ...  \n",
       "12038  Australia    CUS-55310383     145.23 -37.81    debit  \n",
       "12039  Australia  CUS-2688605418     150.88 -33.96    debit  \n",
       "12040  Australia  CUS-2663907001     150.92 -33.74    debit  \n",
       "12041  Australia  CUS-1388323263     145.09 -37.91    debit  \n",
       "12042  Australia  CUS-3129499595     151.19 -33.93    debit  \n",
       "\n",
       "[12043 rows x 20 columns]"
      ]
     },
     "execution_count": 15,
     "metadata": {},
     "output_type": "execute_result"
    }
   ],
   "source": [
    "df"
   ]
  },
  {
   "cell_type": "markdown",
   "metadata": {
    "id": "wPl9BYLuiidH"
   },
   "source": [
    "Now we will perform EDA"
   ]
  },
  {
   "cell_type": "code",
   "execution_count": 16,
   "metadata": {
    "colab": {
     "base_uri": "https://localhost:8080/",
     "height": 367
    },
    "id": "4bpfVKWlp_XF",
    "outputId": "1fff7f59-af56-48b8-cf2a-8bb1b4a1660e"
   },
   "outputs": [
    {
     "data": {
      "text/plain": [
       "Text(0.5, 1.0, 'status of the account')"
      ]
     },
     "execution_count": 16,
     "metadata": {},
     "output_type": "execute_result"
    },
    {
     "data": {
      "image/png": "[encoded data removed]",
      "text/plain": [
       "<Figure size 432x288 with 1 Axes>"
      ]
     },
     "metadata": {
      "needs_background": "light"
     },
     "output_type": "display_data"
    }
   ],
   "source": [
    "#Status of the account is checked\n",
    "sns.countplot(df.status)\n",
    "plt.title(\"status of the account\")"
   ]
  },
  {
   "cell_type": "code",
   "execution_count": 17,
   "metadata": {
    "colab": {
     "base_uri": "https://localhost:8080/",
     "height": 368
    },
    "id": "lkBgd9sQihKQ",
    "outputId": "8d3ad9c9-0733-4fc1-ce4d-3bda5b32ef4d"
   },
   "outputs": [
    {
     "data": {
      "text/plain": [
       "Text(0.5, 1.0, 'Card Present?')"
      ]
     },
     "execution_count": 17,
     "metadata": {},
     "output_type": "execute_result"
    },
    {
     "data": {
      "image/png": "[encoded data removed]",
      "text/plain": [
       "<Figure size 432x288 with 1 Axes>"
      ]
     },
     "metadata": {
      "needs_background": "light"
     },
     "output_type": "display_data"
    }
   ],
   "source": [
    "#first we will perform if the card is present of not\n",
    "sns.countplot(df.card_present_flag)\n",
    "plt.title(\"Card Present?\")"
   ]
  },
  {
   "cell_type": "code",
   "execution_count": 18,
   "metadata": {
    "colab": {
     "base_uri": "https://localhost:8080/",
     "height": 423
    },
    "id": "F1mCN3OShciz",
    "outputId": "52d766b8-558b-4e97-da93-753d87ca03d9"
   },
   "outputs": [
    {
     "data": {
      "text/plain": [
       "Text(0.5, 1.0, 'txn_description Types')"
      ]
     },
     "execution_count": 18,
     "metadata": {},
     "output_type": "execute_result"
    },
    {
     "data": {
      "image/png": "[encoded data removed]",
      "text/plain": [
       "<Figure size 720x360 with 1 Axes>"
      ]
     },
     "metadata": {
      "needs_background": "light"
     },
     "output_type": "display_data"
    }
   ],
   "source": [
    "#txn_description Feild\n",
    "plt.figure(figsize = (10, 5))\n",
    "sns.countplot(df.txn_description)\n",
    "plt.title(\"txn_description Types\")\n"
   ]
  },
  {
   "cell_type": "code",
   "execution_count": 19,
   "metadata": {
    "colab": {
     "base_uri": "https://localhost:8080/",
     "height": 369
    },
    "id": "jUMzQwqHqwrx",
    "outputId": "f0039144-6dd0-4049-b308-0b22b934f1b6"
   },
   "outputs": [
    {
     "data": {
      "text/plain": [
       "Text(0.5, 1.0, 'Average transaction volume by category')"
      ]
     },
     "execution_count": 19,
     "metadata": {},
     "output_type": "execute_result"
    },
    {
     "data": {
      "image/png": "[encoded data removed]",
      "text/plain": [
       "<Figure size 576x360 with 1 Axes>"
      ]
     },
     "metadata": {
      "needs_background": "light"
     },
     "output_type": "display_data"
    }
   ],
   "source": [
    "#Now we will do amount transaction per description\n",
    "plt.figure(figsize = (8, 5))\n",
    "sns.barplot(x = \"txn_description\", y = \"amount\", data = df)\n",
    "plt.title(\"Average transaction volume by category\")"
   ]
  },
  {
   "cell_type": "markdown",
   "metadata": {
    "id": "so4eRGSnsPM-"
   },
   "source": [
    "# Task 2"
   ]
  },
  {
   "cell_type": "markdown",
   "metadata": {},
   "source": [
    "We only require age, amount and balance for the this take so we create a new data frame consisting of this 3 fields"
   ]
  },
  {
   "cell_type": "code",
   "execution_count": 21,
   "metadata": {},
   "outputs": [],
   "source": [
    "data=df[[\"age\",\"amount\",\"balance\"]]"
   ]
  },
  {
   "cell_type": "code",
   "execution_count": 22,
   "metadata": {},
   "outputs": [
    {
     "data": {
      "text/html": [
       "<div>\n",
       "<style scoped>\n",
       "    .dataframe tbody tr th:only-of-type {\n",
       "        vertical-align: middle;\n",
       "    }\n",
       "\n",
       "    .dataframe tbody tr th {\n",
       "        vertical-align: top;\n",
       "    }\n",
       "\n",
       "    .dataframe thead th {\n",
       "        text-align: right;\n",
       "    }\n",
       "</style>\n",
       "<table border=\"1\" class=\"dataframe\">\n",
       "  <thead>\n",
       "    <tr style=\"text-align: right;\">\n",
       "      <th></th>\n",
       "      <th>age</th>\n",
       "      <th>amount</th>\n",
       "      <th>balance</th>\n",
       "    </tr>\n",
       "  </thead>\n",
       "  <tbody>\n",
       "    <tr>\n",
       "      <th>0</th>\n",
       "      <td>26</td>\n",
       "      <td>16.25</td>\n",
       "      <td>35.39</td>\n",
       "    </tr>\n",
       "    <tr>\n",
       "      <th>1</th>\n",
       "      <td>26</td>\n",
       "      <td>14.19</td>\n",
       "      <td>21.20</td>\n",
       "    </tr>\n",
       "    <tr>\n",
       "      <th>2</th>\n",
       "      <td>38</td>\n",
       "      <td>6.42</td>\n",
       "      <td>5.71</td>\n",
       "    </tr>\n",
       "    <tr>\n",
       "      <th>3</th>\n",
       "      <td>40</td>\n",
       "      <td>40.90</td>\n",
       "      <td>2117.22</td>\n",
       "    </tr>\n",
       "    <tr>\n",
       "      <th>4</th>\n",
       "      <td>26</td>\n",
       "      <td>3.25</td>\n",
       "      <td>17.95</td>\n",
       "    </tr>\n",
       "    <tr>\n",
       "      <th>...</th>\n",
       "      <td>...</td>\n",
       "      <td>...</td>\n",
       "      <td>...</td>\n",
       "    </tr>\n",
       "    <tr>\n",
       "      <th>12038</th>\n",
       "      <td>30</td>\n",
       "      <td>9.79</td>\n",
       "      <td>14054.14</td>\n",
       "    </tr>\n",
       "    <tr>\n",
       "      <th>12039</th>\n",
       "      <td>20</td>\n",
       "      <td>63.87</td>\n",
       "      <td>9137.79</td>\n",
       "    </tr>\n",
       "    <tr>\n",
       "      <th>12040</th>\n",
       "      <td>28</td>\n",
       "      <td>43.96</td>\n",
       "      <td>45394.57</td>\n",
       "    </tr>\n",
       "    <tr>\n",
       "      <th>12041</th>\n",
       "      <td>69</td>\n",
       "      <td>30.77</td>\n",
       "      <td>11350.67</td>\n",
       "    </tr>\n",
       "    <tr>\n",
       "      <th>12042</th>\n",
       "      <td>31</td>\n",
       "      <td>22.36</td>\n",
       "      <td>5517.91</td>\n",
       "    </tr>\n",
       "  </tbody>\n",
       "</table>\n",
       "<p>12043 rows × 3 columns</p>\n",
       "</div>"
      ],
      "text/plain": [
       "       age  amount   balance\n",
       "0       26   16.25     35.39\n",
       "1       26   14.19     21.20\n",
       "2       38    6.42      5.71\n",
       "3       40   40.90   2117.22\n",
       "4       26    3.25     17.95\n",
       "...    ...     ...       ...\n",
       "12038   30    9.79  14054.14\n",
       "12039   20   63.87   9137.79\n",
       "12040   28   43.96  45394.57\n",
       "12041   69   30.77  11350.67\n",
       "12042   31   22.36   5517.91\n",
       "\n",
       "[12043 rows x 3 columns]"
      ]
     },
     "execution_count": 22,
     "metadata": {},
     "output_type": "execute_result"
    }
   ],
   "source": [
    "data"
   ]
  },
  {
   "cell_type": "code",
   "execution_count": 25,
   "metadata": {},
   "outputs": [
    {
     "data": {
      "text/plain": [
       "<matplotlib.axes._subplots.AxesSubplot at 0x7f3ad1bc8b50>"
      ]
     },
     "execution_count": 25,
     "metadata": {},
     "output_type": "execute_result"
    },
    {
     "data": {
      "image/png": "[encoded data removed]",
      "text/plain": [
       "<Figure size 432x288 with 1 Axes>"
      ]
     },
     "metadata": {
      "needs_background": "light"
     },
     "output_type": "display_data"
    }
   ],
   "source": [
    "sns.scatterplot(x=data[\"age\"],y=data[\"balance\"],data=data)"
   ]
  },
  {
   "cell_type": "code",
   "execution_count": 26,
   "metadata": {},
   "outputs": [
    {
     "data": {
      "text/plain": [
       "<matplotlib.axes._subplots.AxesSubplot at 0x7f3ad1bc1090>"
      ]
     },
     "execution_count": 26,
     "metadata": {},
     "output_type": "execute_result"
    },
    {
     "data": {
      "image/png": "[encoded data removed]",
      "text/plain": [
       "<Figure size 432x288 with 1 Axes>"
      ]
     },
     "metadata": {
      "needs_background": "light"
     },
     "output_type": "display_data"
    }
   ],
   "source": [
    "sns.scatterplot(x=data[\"age\"],y=data[\"amount\"],data=data)"
   ]
  },
  {
   "cell_type": "markdown",
   "metadata": {},
   "source": [
    "Now we will perform Regression model In other to perform regression model we need to split the data in X and Y\n",
    "where X is the dependent varible and Y is the Independent variable"
   ]
  },
  {
   "cell_type": "code",
   "execution_count": 27,
   "metadata": {},
   "outputs": [],
   "source": [
    "X=data[[\"age\",\"amount\"]]\n",
    "Y=data[\"balance\"]"
   ]
  },
  {
   "cell_type": "code",
   "execution_count": 30,
   "metadata": {},
   "outputs": [],
   "source": [
    "#training\n",
    "x_train,x_test,y_train,y_test=train_test_split(X,Y,test_size=0.25)"
   ]
  },
  {
   "cell_type": "code",
   "execution_count": 31,
   "metadata": {},
   "outputs": [
    {
     "name": "stdout",
     "output_type": "stream",
     "text": [
      "[ 7184.03799454 37446.23384417 10865.40715252 ... 12684.11610872\n",
      " 19932.02497729  7255.41322046]\n"
     ]
    }
   ],
   "source": [
    "#predicting the value\n",
    "linear=LinearRegression()\n",
    "#to train and the model \n",
    "linear.fit(x_train,y_train)\n",
    "prediction=linear.predict(x_test)\n",
    "print(prediction)"
   ]
  }
 ],
 "metadata": {
  "colab": {
   "name": "ANZ",
   "provenance": []
  },
  "kernelspec": {
   "display_name": "Python 3",
   "language": "python",
   "name": "python3"
  },
  "language_info": {
   "codemirror_mode": {
    "name": "ipython",
    "version": 3
   },
   "file_extension": ".py",
   "mimetype": "text/x-python",
   "name": "python",
   "nbconvert_exporter": "python",
   "pygments_lexer": "ipython3",
   "version": "3.7.6"
  }
 },
 "nbformat": 4,
 "nbformat_minor": 1
}
